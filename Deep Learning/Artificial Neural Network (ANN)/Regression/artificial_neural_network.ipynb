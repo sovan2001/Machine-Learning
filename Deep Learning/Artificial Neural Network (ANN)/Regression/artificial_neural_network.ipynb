{
  "cells": [
    {
      "cell_type": "markdown",
      "metadata": {
        "colab_type": "text",
        "id": "3cbb7fRy-eyr"
      },
      "source": [
        "# Artificial Neural Network"
      ]
    },
    {
      "cell_type": "markdown",
      "metadata": {
        "colab_type": "text",
        "id": "8sNDnxE2-pwE"
      },
      "source": [
        "### Importing the libraries"
      ]
    },
    {
      "cell_type": "code",
      "execution_count": 4,
      "metadata": {},
      "outputs": [],
      "source": [
        "import numpy as np\n",
        "import pandas as pd\n",
        "import tensorflow as tf"
      ]
    },
    {
      "cell_type": "code",
      "execution_count": 5,
      "metadata": {},
      "outputs": [
        {
          "data": {
            "text/plain": [
              "'2.9.1'"
            ]
          },
          "execution_count": 5,
          "metadata": {},
          "output_type": "execute_result"
        }
      ],
      "source": [
        "tf.__version__"
      ]
    },
    {
      "cell_type": "markdown",
      "metadata": {
        "colab_type": "text",
        "id": "AG3FQEch-yuA"
      },
      "source": [
        "## Part 1 - Data Preprocessing"
      ]
    },
    {
      "cell_type": "markdown",
      "metadata": {
        "colab_type": "text",
        "id": "-4zq8Mza_D9O"
      },
      "source": [
        "### Importing the dataset"
      ]
    },
    {
      "cell_type": "code",
      "execution_count": 13,
      "metadata": {},
      "outputs": [],
      "source": [
        "dataset = pd.read_excel('Folds5x2_pp.xlsx')\n",
        "x = dataset.iloc[:, :-1].values\n",
        "y = dataset.iloc[:, -1].values"
      ]
    },
    {
      "cell_type": "markdown",
      "metadata": {
        "colab_type": "text",
        "id": "VC6omXel_Up0"
      },
      "source": [
        "### Splitting the dataset into the Training set and Test set"
      ]
    },
    {
      "cell_type": "code",
      "execution_count": 22,
      "metadata": {},
      "outputs": [],
      "source": [
        "from sklearn.model_selection import train_test_split\n",
        "x_train, x_test, y_train, y_test = train_test_split(x, y, test_size = 0.2, random_state = 0)"
      ]
    },
    {
      "cell_type": "markdown",
      "metadata": {
        "colab_type": "text",
        "id": "_mSLlAT9_eyI"
      },
      "source": [
        "## Part 2 - Building the ANN"
      ]
    },
    {
      "cell_type": "markdown",
      "metadata": {
        "colab_type": "text",
        "id": "CsBULd_f_wLY"
      },
      "source": [
        "### Initializing the ANN"
      ]
    },
    {
      "cell_type": "code",
      "execution_count": 23,
      "metadata": {},
      "outputs": [],
      "source": [
        "ann = tf.keras.models.Sequential()"
      ]
    },
    {
      "cell_type": "markdown",
      "metadata": {
        "colab_type": "text",
        "id": "iitAFJS_ABUn"
      },
      "source": [
        "### Adding the input layer and the first hidden layer"
      ]
    },
    {
      "cell_type": "code",
      "execution_count": 24,
      "metadata": {},
      "outputs": [],
      "source": [
        "ann.add(tf.keras.layers.Dense(units = 6, activation = 'relu'))"
      ]
    },
    {
      "cell_type": "markdown",
      "metadata": {
        "colab_type": "text",
        "id": "-lb4kK_wAKbs"
      },
      "source": [
        "### Adding the second hidden layer"
      ]
    },
    {
      "cell_type": "code",
      "execution_count": 25,
      "metadata": {},
      "outputs": [],
      "source": [
        "ann.add(tf.keras.layers.Dense(units = 6, activation = 'relu'))"
      ]
    },
    {
      "cell_type": "markdown",
      "metadata": {
        "colab_type": "text",
        "id": "jwMOmKb3AdBY"
      },
      "source": [
        "### Adding the output layer"
      ]
    },
    {
      "cell_type": "code",
      "execution_count": 26,
      "metadata": {},
      "outputs": [],
      "source": [
        "ann.add(tf.keras.layers.Dense(units = 1))"
      ]
    },
    {
      "cell_type": "markdown",
      "metadata": {
        "colab_type": "text",
        "id": "fq7e4fF6A1yy"
      },
      "source": [
        "## Part 3 - Training the ANN"
      ]
    },
    {
      "cell_type": "markdown",
      "metadata": {
        "colab_type": "text",
        "id": "qDeylAs2An25"
      },
      "source": [
        "### Compiling the ANN"
      ]
    },
    {
      "cell_type": "code",
      "execution_count": 27,
      "metadata": {},
      "outputs": [],
      "source": [
        "ann.compile(optimizer = 'adam', loss = 'mean_squared_error')"
      ]
    },
    {
      "cell_type": "markdown",
      "metadata": {
        "colab_type": "text",
        "id": "YjVuiybYOo7r"
      },
      "source": [
        "### Training the ANN model on the Training set"
      ]
    },
    {
      "cell_type": "code",
      "execution_count": 28,
      "metadata": {},
      "outputs": [
        {
          "name": "stdout",
          "output_type": "stream",
          "text": [
            "Epoch 1/100\n",
            "240/240 [==============================] - 12s 9ms/step - loss: 16351.5791\n",
            "Epoch 2/100\n",
            "240/240 [==============================] - 1s 5ms/step - loss: 225.3233\n",
            "Epoch 3/100\n",
            "240/240 [==============================] - 1s 4ms/step - loss: 218.1775\n",
            "Epoch 4/100\n",
            "240/240 [==============================] - 1s 5ms/step - loss: 208.9941\n",
            "Epoch 5/100\n",
            "240/240 [==============================] - 1s 6ms/step - loss: 198.5044\n",
            "Epoch 6/100\n",
            "240/240 [==============================] - 1s 4ms/step - loss: 186.2514\n",
            "Epoch 7/100\n",
            "240/240 [==============================] - 1s 5ms/step - loss: 173.7844\n",
            "Epoch 8/100\n",
            "240/240 [==============================] - 1s 5ms/step - loss: 160.1870\n",
            "Epoch 9/100\n",
            "240/240 [==============================] - 1s 4ms/step - loss: 146.3508\n",
            "Epoch 10/100\n",
            "240/240 [==============================] - 1s 3ms/step - loss: 132.7549\n",
            "Epoch 11/100\n",
            "240/240 [==============================] - 1s 2ms/step - loss: 119.0008\n",
            "Epoch 12/100\n",
            "240/240 [==============================] - 1s 2ms/step - loss: 106.3512\n",
            "Epoch 13/100\n",
            "240/240 [==============================] - 1s 6ms/step - loss: 94.4934\n",
            "Epoch 14/100\n",
            "240/240 [==============================] - 1s 3ms/step - loss: 84.1424\n",
            "Epoch 15/100\n",
            "240/240 [==============================] - 1s 2ms/step - loss: 74.0789\n",
            "Epoch 16/100\n",
            "240/240 [==============================] - 1s 3ms/step - loss: 65.9483\n",
            "Epoch 17/100\n",
            "240/240 [==============================] - 1s 3ms/step - loss: 59.4423\n",
            "Epoch 18/100\n",
            "240/240 [==============================] - 1s 3ms/step - loss: 54.0219\n",
            "Epoch 19/100\n",
            "240/240 [==============================] - 1s 3ms/step - loss: 49.5793\n",
            "Epoch 20/100\n",
            "240/240 [==============================] - 1s 3ms/step - loss: 46.7578\n",
            "Epoch 21/100\n",
            "240/240 [==============================] - 1s 3ms/step - loss: 43.9695\n",
            "Epoch 22/100\n",
            "240/240 [==============================] - 1s 3ms/step - loss: 42.1437\n",
            "Epoch 23/100\n",
            "240/240 [==============================] - 1s 3ms/step - loss: 40.2536\n",
            "Epoch 24/100\n",
            "240/240 [==============================] - 1s 3ms/step - loss: 38.5045\n",
            "Epoch 25/100\n",
            "240/240 [==============================] - 1s 6ms/step - loss: 37.5244\n",
            "Epoch 26/100\n",
            "240/240 [==============================] - 1s 4ms/step - loss: 37.0202\n",
            "Epoch 27/100\n",
            "240/240 [==============================] - 1s 4ms/step - loss: 35.6110\n",
            "Epoch 28/100\n",
            "240/240 [==============================] - 1s 5ms/step - loss: 34.7256\n",
            "Epoch 29/100\n",
            "240/240 [==============================] - 1s 5ms/step - loss: 34.6083\n",
            "Epoch 30/100\n",
            "240/240 [==============================] - 1s 4ms/step - loss: 33.7563\n",
            "Epoch 31/100\n",
            "240/240 [==============================] - 1s 6ms/step - loss: 32.9844\n",
            "Epoch 32/100\n",
            "240/240 [==============================] - 1s 5ms/step - loss: 32.5458\n",
            "Epoch 33/100\n",
            "240/240 [==============================] - 1s 6ms/step - loss: 32.1753\n",
            "Epoch 34/100\n",
            "240/240 [==============================] - 1s 5ms/step - loss: 31.5121\n",
            "Epoch 35/100\n",
            "240/240 [==============================] - 2s 6ms/step - loss: 31.0373\n",
            "Epoch 36/100\n",
            "240/240 [==============================] - 1s 5ms/step - loss: 30.8176\n",
            "Epoch 37/100\n",
            "240/240 [==============================] - 1s 4ms/step - loss: 31.0359\n",
            "Epoch 38/100\n",
            "240/240 [==============================] - 1s 5ms/step - loss: 30.1284\n",
            "Epoch 39/100\n",
            "240/240 [==============================] - 1s 4ms/step - loss: 30.3237\n",
            "Epoch 40/100\n",
            "240/240 [==============================] - 1s 5ms/step - loss: 30.1718\n",
            "Epoch 41/100\n",
            "240/240 [==============================] - 2s 6ms/step - loss: 29.6264\n",
            "Epoch 42/100\n",
            "240/240 [==============================] - 1s 6ms/step - loss: 29.5784\n",
            "Epoch 43/100\n",
            "240/240 [==============================] - 1s 5ms/step - loss: 28.8561\n",
            "Epoch 44/100\n",
            "240/240 [==============================] - 1s 6ms/step - loss: 28.8442\n",
            "Epoch 45/100\n",
            "240/240 [==============================] - 1s 6ms/step - loss: 28.5384\n",
            "Epoch 46/100\n",
            "240/240 [==============================] - 1s 5ms/step - loss: 29.1021\n",
            "Epoch 47/100\n",
            "240/240 [==============================] - 1s 4ms/step - loss: 28.8554\n",
            "Epoch 48/100\n",
            "240/240 [==============================] - 1s 4ms/step - loss: 28.3116\n",
            "Epoch 49/100\n",
            "240/240 [==============================] - 1s 5ms/step - loss: 27.7923\n",
            "Epoch 50/100\n",
            "240/240 [==============================] - 1s 4ms/step - loss: 27.4762\n",
            "Epoch 51/100\n",
            "240/240 [==============================] - 1s 5ms/step - loss: 28.1542\n",
            "Epoch 52/100\n",
            "240/240 [==============================] - 2s 6ms/step - loss: 28.1356\n",
            "Epoch 53/100\n",
            "240/240 [==============================] - 1s 5ms/step - loss: 27.5999\n",
            "Epoch 54/100\n",
            "240/240 [==============================] - 1s 4ms/step - loss: 27.7764\n",
            "Epoch 55/100\n",
            "240/240 [==============================] - 1s 4ms/step - loss: 27.4795\n",
            "Epoch 56/100\n",
            "240/240 [==============================] - 1s 4ms/step - loss: 27.6739\n",
            "Epoch 57/100\n",
            "240/240 [==============================] - 1s 5ms/step - loss: 27.3418\n",
            "Epoch 58/100\n",
            "240/240 [==============================] - 1s 4ms/step - loss: 27.2638\n",
            "Epoch 59/100\n",
            "240/240 [==============================] - 1s 4ms/step - loss: 27.4016\n",
            "Epoch 60/100\n",
            "240/240 [==============================] - 1s 4ms/step - loss: 26.7197\n",
            "Epoch 61/100\n",
            "240/240 [==============================] - 1s 6ms/step - loss: 27.5707\n",
            "Epoch 62/100\n",
            "240/240 [==============================] - 1s 3ms/step - loss: 26.9837\n",
            "Epoch 63/100\n",
            "240/240 [==============================] - 1s 3ms/step - loss: 26.6872\n",
            "Epoch 64/100\n",
            "240/240 [==============================] - 1s 4ms/step - loss: 26.8718\n",
            "Epoch 65/100\n",
            "240/240 [==============================] - 2s 7ms/step - loss: 27.8823\n",
            "Epoch 66/100\n",
            "240/240 [==============================] - 1s 6ms/step - loss: 26.9610\n",
            "Epoch 67/100\n",
            "240/240 [==============================] - 1s 5ms/step - loss: 26.9647\n",
            "Epoch 68/100\n",
            "240/240 [==============================] - 1s 5ms/step - loss: 27.4302\n",
            "Epoch 69/100\n",
            "240/240 [==============================] - 1s 4ms/step - loss: 26.9340\n",
            "Epoch 70/100\n",
            "240/240 [==============================] - 1s 4ms/step - loss: 27.1264\n",
            "Epoch 71/100\n",
            "240/240 [==============================] - 1s 3ms/step - loss: 27.1162\n",
            "Epoch 72/100\n",
            "240/240 [==============================] - 1s 3ms/step - loss: 26.7187\n",
            "Epoch 73/100\n",
            "240/240 [==============================] - 1s 3ms/step - loss: 26.5906\n",
            "Epoch 74/100\n",
            "240/240 [==============================] - 1s 3ms/step - loss: 26.8267\n",
            "Epoch 75/100\n",
            "240/240 [==============================] - 1s 3ms/step - loss: 26.6714\n",
            "Epoch 76/100\n",
            "240/240 [==============================] - 1s 3ms/step - loss: 26.8457\n",
            "Epoch 77/100\n",
            "240/240 [==============================] - 1s 4ms/step - loss: 26.7785\n",
            "Epoch 78/100\n",
            "240/240 [==============================] - 1s 3ms/step - loss: 26.7100\n",
            "Epoch 79/100\n",
            "240/240 [==============================] - 1s 2ms/step - loss: 26.7117\n",
            "Epoch 80/100\n",
            "240/240 [==============================] - 1s 3ms/step - loss: 26.6053\n",
            "Epoch 81/100\n",
            "240/240 [==============================] - 1s 4ms/step - loss: 27.1736\n",
            "Epoch 82/100\n",
            "240/240 [==============================] - 1s 3ms/step - loss: 26.5148\n",
            "Epoch 83/100\n",
            "240/240 [==============================] - 1s 3ms/step - loss: 26.4959\n",
            "Epoch 84/100\n",
            "240/240 [==============================] - 1s 3ms/step - loss: 27.2442\n",
            "Epoch 85/100\n",
            "240/240 [==============================] - 1s 3ms/step - loss: 27.0065\n",
            "Epoch 86/100\n",
            "240/240 [==============================] - 1s 3ms/step - loss: 26.7705\n",
            "Epoch 87/100\n",
            "240/240 [==============================] - 1s 3ms/step - loss: 27.2845\n",
            "Epoch 88/100\n",
            "240/240 [==============================] - 1s 3ms/step - loss: 27.0923\n",
            "Epoch 89/100\n",
            "240/240 [==============================] - 1s 3ms/step - loss: 26.5811\n",
            "Epoch 90/100\n",
            "240/240 [==============================] - 1s 2ms/step - loss: 26.8010\n",
            "Epoch 91/100\n",
            "240/240 [==============================] - 1s 3ms/step - loss: 26.5497\n",
            "Epoch 92/100\n",
            "240/240 [==============================] - 1s 3ms/step - loss: 26.7254\n",
            "Epoch 93/100\n",
            "240/240 [==============================] - 1s 3ms/step - loss: 26.5692\n",
            "Epoch 94/100\n",
            "240/240 [==============================] - 1s 3ms/step - loss: 27.0124\n",
            "Epoch 95/100\n",
            "240/240 [==============================] - 1s 3ms/step - loss: 26.7938\n",
            "Epoch 96/100\n",
            "240/240 [==============================] - 1s 3ms/step - loss: 26.6381\n",
            "Epoch 97/100\n",
            "240/240 [==============================] - 1s 3ms/step - loss: 27.0958\n",
            "Epoch 98/100\n",
            "240/240 [==============================] - 1s 3ms/step - loss: 26.9895\n",
            "Epoch 99/100\n",
            "240/240 [==============================] - 1s 3ms/step - loss: 26.3415\n",
            "Epoch 100/100\n",
            "240/240 [==============================] - 1s 4ms/step - loss: 26.9947\n"
          ]
        },
        {
          "data": {
            "text/plain": [
              "<keras.callbacks.History at 0x2a51adc3af0>"
            ]
          },
          "execution_count": 28,
          "metadata": {},
          "output_type": "execute_result"
        }
      ],
      "source": [
        "ann.fit(x_train, y_train, batch_size = 32, epochs = 100)"
      ]
    },
    {
      "cell_type": "markdown",
      "metadata": {
        "colab_type": "text",
        "id": "0H0zKKNEBLD5"
      },
      "source": [
        "### Predicting the results of the Test set"
      ]
    },
    {
      "cell_type": "code",
      "execution_count": 31,
      "metadata": {},
      "outputs": [
        {
          "name": "stdout",
          "output_type": "stream",
          "text": [
            "60/60 [==============================] - 1s 6ms/step\n",
            "[[430.69 431.23]\n",
            " [461.75 460.01]\n",
            " [465.26 461.14]\n",
            " ...\n",
            " [472.44 473.26]\n",
            " [439.41 438.  ]\n",
            " [458.53 463.28]]\n"
          ]
        }
      ],
      "source": [
        "y_pred = ann.predict(x_test)\n",
        "np.set_printoptions(precision = 2)\n",
        "print(np.concatenate((y_pred.reshape(-1, 1),y_test.reshape(-1,1)), 1))"
      ]
    }
  ],
  "metadata": {
    "colab": {
      "collapsed_sections": [],
      "name": "Artificial Neural Network",
      "provenance": [],
      "toc_visible": true
    },
    "kernelspec": {
      "display_name": "Python 3.10.5 64-bit",
      "language": "python",
      "name": "python3"
    },
    "language_info": {
      "codemirror_mode": {
        "name": "ipython",
        "version": 3
      },
      "file_extension": ".py",
      "mimetype": "text/x-python",
      "name": "python",
      "nbconvert_exporter": "python",
      "pygments_lexer": "ipython3",
      "version": "3.10.5"
    },
    "vscode": {
      "interpreter": {
        "hash": "beedbe2faf2f7048d727558d0bc3221e7eba2a0b921cac4d4771b2feb8f74b30"
      }
    }
  },
  "nbformat": 4,
  "nbformat_minor": 0
}
