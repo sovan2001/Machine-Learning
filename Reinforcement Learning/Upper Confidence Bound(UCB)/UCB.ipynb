{
 "cells": [
  {
   "cell_type": "markdown",
   "metadata": {},
   "source": [
    "# UCB Implementation"
   ]
  },
  {
   "cell_type": "markdown",
   "metadata": {},
   "source": [
    "### Importing Libraries"
   ]
  },
  {
   "cell_type": "code",
   "execution_count": 1,
   "metadata": {},
   "outputs": [],
   "source": [
    "import numpy as npli\n",
    "import pandas as pd\n",
    "import matplotlib.pyplot as plt"
   ]
  },
  {
   "cell_type": "markdown",
   "metadata": {},
   "source": [
    "### Importing Dataset"
   ]
  },
  {
   "cell_type": "code",
   "execution_count": 2,
   "metadata": {},
   "outputs": [],
   "source": [
    "dataset = pd.read_csv(\"Ads_CTR_Optimisation.csv\")"
   ]
  },
  {
   "cell_type": "markdown",
   "metadata": {},
   "source": [
    "### Implementing UCB"
   ]
  },
  {
   "cell_type": "code",
   "execution_count": 3,
   "metadata": {},
   "outputs": [],
   "source": [
    "import math\n",
    "N = 10000\n",
    "d = 10\n",
    "ads_selected = []\n",
    "Numbers_of_Selection = [0] * d\n",
    "Sum_of_Rewards = [0] * d\n",
    "Total_Reward = 0\n",
    "for n in range(0,N):\n",
    "    ad = 0\n",
    "    max_UCB = 0\n",
    "    for i in range(0,d):\n",
    "        if Numbers_of_Selection[i] > 0 :\n",
    "            avg_Reward = Sum_of_Rewards[i] / Numbers_of_Selection[i]\n",
    "            delta_i = math.sqrt( 3/2 * math.log(n + 1) / Numbers_of_Selection[i])\n",
    "            UCB = avg_Reward + delta_i\n",
    "        else:\n",
    "            UCB = 1e400\n",
    "        if UCB > max_UCB :\n",
    "            max_UCB = UCB\n",
    "            ad = i\n",
    "    ads_selected.append(ad)\n",
    "    Numbers_of_Selection[ad] += 1\n",
    "    reward = dataset.values[n, ad]\n",
    "    Sum_of_Rewards[ad] += reward\n",
    "    Total_Reward += reward"
   ]
  },
  {
   "cell_type": "markdown",
   "metadata": {},
   "source": [
    "### Visualising The Result"
   ]
  },
  {
   "cell_type": "code",
   "execution_count": 8,
   "metadata": {},
   "outputs": [
    {
     "data": {
      "image/png": "[encoded data removed]",
      "text/plain": [
       "<Figure size 432x288 with 1 Axes>"
      ]
     },
     "metadata": {
      "needs_background": "light"
     },
     "output_type": "display_data"
    }
   ],
   "source": [
    "plt.hist(ads_selected)\n",
    "plt.title(\"Histogram Of Ads Selection\")\n",
    "plt.xlabel(\"Ads\")\n",
    "plt.ylabel(\"Number Of Times Selected\")\n",
    "plt.show()"
   ]
  }
 ],
 "metadata": {
  "interpreter": {
   "hash": "11938c6bc6919ae2720b4d5011047913343b08a43b18698fd82dedb0d4417594"
  },
  "kernelspec": {
   "display_name": "Python 3.9.7 64-bit",
   "language": "python",
   "name": "python3"
  },
  "language_info": {
   "codemirror_mode": {
    "name": "ipython",
    "version": 3
   },
   "file_extension": ".py",
   "mimetype": "text/x-python",
   "name": "python",
   "nbconvert_exporter": "python",
   "pygments_lexer": "ipython3",
   "version": "3.9.7"
  },
  "orig_nbformat": 4
 },
 "nbformat": 4,
 "nbformat_minor": 2
}
